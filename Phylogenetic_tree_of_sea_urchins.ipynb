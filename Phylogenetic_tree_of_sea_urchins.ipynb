{
  "nbformat": 4,
  "nbformat_minor": 0,
  "metadata": {
    "colab": {
      "provenance": [],
      "authorship_tag": "ABX9TyN06X8eDhwWy0+6VLVtnLuR",
      "include_colab_link": true
    },
    "kernelspec": {
      "name": "python3",
      "display_name": "Python 3"
    },
    "language_info": {
      "name": "python"
    }
  },
  "cells": [
    {
      "cell_type": "markdown",
      "metadata": {
        "id": "view-in-github",
        "colab_type": "text"
      },
      "source": [
        "<a href=\"https://colab.research.google.com/github/EmiliaJarochowska/Echinoid_phylogeny/blob/main/Phylogenetic_tree_of_sea_urchins.ipynb\" target=\"_parent\"><img src=\"https://colab.research.google.com/assets/colab-badge.svg\" alt=\"Open In Colab\"/></a>"
      ]
    },
    {
      "cell_type": "markdown",
      "source": [
        "# Phylogenetic tree of sea urchins"
      ],
      "metadata": {
        "id": "_wqKO8nnh9j9"
      }
    },
    {
      "cell_type": "code",
      "execution_count": null,
      "metadata": {
        "id": "KB6-3CNof6EG"
      },
      "outputs": [],
      "source": [
        "!pip install numpy\n",
        "!pip install pandas\n",
        "!pip install matplotlib\n",
        "!pip install scipy # might only work via Anaconda?"
      ]
    },
    {
      "cell_type": "code",
      "source": [
        "import numpy as np\n",
        "import pandas as pd\n",
        "import matplotlib.pyplot as plt\n",
        "from scipy.spatial.distance import pdist, squareform\n",
        "from scipy.cluster.hierarchy import linkage, dendrogram\n",
        "from google.colab import files # for file upload & download"
      ],
      "metadata": {
        "id": "YDEbatU3gBAM"
      },
      "execution_count": null,
      "outputs": []
    },
    {
      "cell_type": "code",
      "source": [
        "uploads = files.upload() # upload your distance matrix here"
      ],
      "metadata": {
        "id": "b0oP8zimgC7m"
      },
      "execution_count": null,
      "outputs": []
    },
    {
      "cell_type": "code",
      "source": [
        "df = pd.read_excel(r\"matrix.xlsx\") # turn .xlsx file into data frame\n",
        "df"
      ],
      "metadata": {
        "id": "q2nxIrk0gErj"
      },
      "execution_count": null,
      "outputs": []
    },
    {
      "cell_type": "markdown",
      "source": [
        "Now we put the names into a separate matrix and keep only the values of characters"
      ],
      "metadata": {
        "id": "YKkIfpbyh31i"
      }
    },
    {
      "cell_type": "code",
      "source": [
        "Taxa = df.index.tolist()[1:] # select taxon names\n",
        "Characters = df.iloc[1:, :] # select character vaues"
      ],
      "metadata": {
        "id": "7Or_3LZVgIVc"
      },
      "execution_count": null,
      "outputs": []
    },
    {
      "cell_type": "code",
      "source": [
        "sequences_str = Characters.values.astype(np.uint8)"
      ],
      "metadata": {
        "id": "vjkbjSglgKE8"
      },
      "execution_count": null,
      "outputs": []
    },
    {
      "cell_type": "markdown",
      "source": [
        "Calculate distance matrix using [Euclidean distance](https://en.wikipedia.org/wiki/Euclidean_distance)"
      ],
      "metadata": {
        "id": "2GZtCP58hf0i"
      }
    },
    {
      "cell_type": "code",
      "source": [
        "distance_matrix = squareform(pdist(sequences_str, metric='euclidean'))"
      ],
      "metadata": {
        "id": "Lz209ljdgNT8"
      },
      "execution_count": null,
      "outputs": []
    },
    {
      "cell_type": "markdown",
      "source": [
        "Visualize the distance matrix"
      ],
      "metadata": {
        "id": "dRD18PgGha9G"
      }
    },
    {
      "cell_type": "code",
      "source": [
        "fig, ax = plt.subplots()\n",
        "cax = ax.matshow(distance_matrix, cmap='viridis')\n",
        "\n",
        "# Distance values for matrix cells\n",
        "for i in range(len(sequences_str)):\n",
        "    for j in range(len(sequences_str)):\n",
        "        ax.text(j, i, f'{distance_matrix[i, j]:.2f}', ha='center', va='center', color='white')\n",
        "\n",
        "# Add color bar\n",
        "cbar = fig.colorbar(cax)\n",
        "cbar.ax.set_ylabel('Distance', rotation=270, labelpad=15)"
      ],
      "metadata": {
        "id": "yE3_1t_-gPOm"
      },
      "execution_count": null,
      "outputs": []
    },
    {
      "cell_type": "markdown",
      "source": [
        "Create a tree using a clustering algorithm. Here we use [UPGMA](https://en.wikipedia.org/wiki/UPGMA). That is indicated by the parameter `method='average'`, see [Scipy documentation](https://docs.scipy.org/doc/scipy/reference/generated/scipy.cluster.hierarchy.linkage.html#scipy.cluster.hierarchy.linkage) for details."
      ],
      "metadata": {
        "id": "HI3-vnGOhKlA"
      }
    },
    {
      "cell_type": "code",
      "source": [
        "Z = linkage(pdist(sequences_str, metric='euclidean'), method='average')"
      ],
      "metadata": {
        "id": "jXndWBFRgRQi"
      },
      "execution_count": null,
      "outputs": []
    },
    {
      "cell_type": "markdown",
      "source": [
        "Plot the tree"
      ],
      "metadata": {
        "id": "jdMN6aeuhEM6"
      }
    },
    {
      "cell_type": "code",
      "source": [
        "plt.figure(figsize=(10, 5))\n",
        "dendrogram(Z,\n",
        "            orientation='left',\n",
        "            labels=Taxa,\n",
        "            distance_sort='descending',\n",
        "            show_leaf_counts=False\n",
        "          )\n",
        "plt.title('Hierarchical Cluster Dendrogram')\n",
        "plt.xlabel('Data Point Indexes')\n",
        "plt.ylabel('Distance')\n",
        "plt.show()"
      ],
      "metadata": {
        "colab": {
          "base_uri": "https://localhost:8080/",
          "height": 254
        },
        "id": "6oUMj4mpgTKJ",
        "outputId": "72239833-0939-48da-b5ad-9d46dd849e3e"
      },
      "execution_count": 1,
      "outputs": [
        {
          "output_type": "error",
          "ename": "NameError",
          "evalue": "name 'plt' is not defined",
          "traceback": [
            "\u001b[0;31m---------------------------------------------------------------------------\u001b[0m",
            "\u001b[0;31mNameError\u001b[0m                                 Traceback (most recent call last)",
            "\u001b[0;32m<ipython-input-1-29c8e20c7350>\u001b[0m in \u001b[0;36m<cell line: 1>\u001b[0;34m()\u001b[0m\n\u001b[0;32m----> 1\u001b[0;31m \u001b[0mplt\u001b[0m\u001b[0;34m.\u001b[0m\u001b[0mfigure\u001b[0m\u001b[0;34m(\u001b[0m\u001b[0mfigsize\u001b[0m\u001b[0;34m=\u001b[0m\u001b[0;34m(\u001b[0m\u001b[0;36m10\u001b[0m\u001b[0;34m,\u001b[0m \u001b[0;36m5\u001b[0m\u001b[0;34m)\u001b[0m\u001b[0;34m)\u001b[0m\u001b[0;34m\u001b[0m\u001b[0;34m\u001b[0m\u001b[0m\n\u001b[0m\u001b[1;32m      2\u001b[0m \u001b[0mdendrogram\u001b[0m\u001b[0;34m(\u001b[0m\u001b[0mZ\u001b[0m\u001b[0;34m)\u001b[0m\u001b[0;34m\u001b[0m\u001b[0;34m\u001b[0m\u001b[0m\n\u001b[1;32m      3\u001b[0m \u001b[0mplt\u001b[0m\u001b[0;34m.\u001b[0m\u001b[0mtitle\u001b[0m\u001b[0;34m(\u001b[0m\u001b[0;34m'Hierarchical Cluster Dendrogram'\u001b[0m\u001b[0;34m)\u001b[0m\u001b[0;34m\u001b[0m\u001b[0;34m\u001b[0m\u001b[0m\n\u001b[1;32m      4\u001b[0m \u001b[0mplt\u001b[0m\u001b[0;34m.\u001b[0m\u001b[0mxlabel\u001b[0m\u001b[0;34m(\u001b[0m\u001b[0;34m'Data Point Indexes'\u001b[0m\u001b[0;34m)\u001b[0m\u001b[0;34m\u001b[0m\u001b[0;34m\u001b[0m\u001b[0m\n\u001b[1;32m      5\u001b[0m \u001b[0mplt\u001b[0m\u001b[0;34m.\u001b[0m\u001b[0mylabel\u001b[0m\u001b[0;34m(\u001b[0m\u001b[0;34m'Distance'\u001b[0m\u001b[0;34m)\u001b[0m\u001b[0;34m\u001b[0m\u001b[0;34m\u001b[0m\u001b[0m\n",
            "\u001b[0;31mNameError\u001b[0m: name 'plt' is not defined"
          ]
        }
      ]
    }
  ]
}